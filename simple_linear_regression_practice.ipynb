{
 "cells": [
  {
   "cell_type": "code",
   "execution_count": 46,
   "id": "d3b99cbd",
   "metadata": {},
   "outputs": [],
   "source": [
    "import pandas as pd"
   ]
  },
  {
   "cell_type": "code",
   "execution_count": 68,
   "id": "31e2a4e6",
   "metadata": {},
   "outputs": [],
   "source": [
    "import numpy as np"
   ]
  },
  {
   "cell_type": "code",
   "execution_count": 47,
   "id": "49805e68",
   "metadata": {},
   "outputs": [],
   "source": [
    "import matplotlib.pyplot as plt"
   ]
  },
  {
   "cell_type": "code",
   "execution_count": 48,
   "id": "c3dc342d",
   "metadata": {},
   "outputs": [],
   "source": [
    "data = pd.DataFrame({\n",
    "    'Study_Hours': [1, 2, 3, 4, 5, 6, 7, 8, 9, 10],\n",
    "    'Marks': [45, 48, 52, 60, 65, 68, 75, 78, 85, 88]\n",
    "})"
   ]
  },
  {
   "cell_type": "code",
   "execution_count": 58,
   "id": "60a274bd",
   "metadata": {},
   "outputs": [],
   "source": [
    "data = pd.read_csv('studyhours.csv')"
   ]
  },
  {
   "cell_type": "code",
   "execution_count": 59,
   "id": "ff8abada",
   "metadata": {},
   "outputs": [
    {
     "data": {
      "text/html": [
       "<div>\n",
       "<style scoped>\n",
       "    .dataframe tbody tr th:only-of-type {\n",
       "        vertical-align: middle;\n",
       "    }\n",
       "\n",
       "    .dataframe tbody tr th {\n",
       "        vertical-align: top;\n",
       "    }\n",
       "\n",
       "    .dataframe thead th {\n",
       "        text-align: right;\n",
       "    }\n",
       "</style>\n",
       "<table border=\"1\" class=\"dataframe\">\n",
       "  <thead>\n",
       "    <tr style=\"text-align: right;\">\n",
       "      <th></th>\n",
       "      <th>Unnamed: 0</th>\n",
       "      <th>Study_Hours</th>\n",
       "      <th>Marks</th>\n",
       "    </tr>\n",
       "  </thead>\n",
       "  <tbody>\n",
       "    <tr>\n",
       "      <th>0</th>\n",
       "      <td>0</td>\n",
       "      <td>1</td>\n",
       "      <td>45</td>\n",
       "    </tr>\n",
       "    <tr>\n",
       "      <th>1</th>\n",
       "      <td>1</td>\n",
       "      <td>2</td>\n",
       "      <td>48</td>\n",
       "    </tr>\n",
       "    <tr>\n",
       "      <th>2</th>\n",
       "      <td>2</td>\n",
       "      <td>3</td>\n",
       "      <td>52</td>\n",
       "    </tr>\n",
       "    <tr>\n",
       "      <th>3</th>\n",
       "      <td>3</td>\n",
       "      <td>4</td>\n",
       "      <td>60</td>\n",
       "    </tr>\n",
       "    <tr>\n",
       "      <th>4</th>\n",
       "      <td>4</td>\n",
       "      <td>5</td>\n",
       "      <td>65</td>\n",
       "    </tr>\n",
       "    <tr>\n",
       "      <th>5</th>\n",
       "      <td>5</td>\n",
       "      <td>6</td>\n",
       "      <td>68</td>\n",
       "    </tr>\n",
       "    <tr>\n",
       "      <th>6</th>\n",
       "      <td>6</td>\n",
       "      <td>7</td>\n",
       "      <td>75</td>\n",
       "    </tr>\n",
       "    <tr>\n",
       "      <th>7</th>\n",
       "      <td>7</td>\n",
       "      <td>8</td>\n",
       "      <td>78</td>\n",
       "    </tr>\n",
       "    <tr>\n",
       "      <th>8</th>\n",
       "      <td>8</td>\n",
       "      <td>9</td>\n",
       "      <td>85</td>\n",
       "    </tr>\n",
       "    <tr>\n",
       "      <th>9</th>\n",
       "      <td>9</td>\n",
       "      <td>10</td>\n",
       "      <td>88</td>\n",
       "    </tr>\n",
       "  </tbody>\n",
       "</table>\n",
       "</div>"
      ],
      "text/plain": [
       "   Unnamed: 0  Study_Hours  Marks\n",
       "0           0            1     45\n",
       "1           1            2     48\n",
       "2           2            3     52\n",
       "3           3            4     60\n",
       "4           4            5     65\n",
       "5           5            6     68\n",
       "6           6            7     75\n",
       "7           7            8     78\n",
       "8           8            9     85\n",
       "9           9           10     88"
      ]
     },
     "execution_count": 59,
     "metadata": {},
     "output_type": "execute_result"
    }
   ],
   "source": [
    "data"
   ]
  },
  {
   "cell_type": "code",
   "execution_count": 60,
   "id": "64f1c5f2",
   "metadata": {},
   "outputs": [],
   "source": [
    "df = data.drop(columns=['Unnamed: 0'])"
   ]
  },
  {
   "cell_type": "code",
   "execution_count": 61,
   "id": "8c28a9f1",
   "metadata": {},
   "outputs": [
    {
     "data": {
      "text/html": [
       "<div>\n",
       "<style scoped>\n",
       "    .dataframe tbody tr th:only-of-type {\n",
       "        vertical-align: middle;\n",
       "    }\n",
       "\n",
       "    .dataframe tbody tr th {\n",
       "        vertical-align: top;\n",
       "    }\n",
       "\n",
       "    .dataframe thead th {\n",
       "        text-align: right;\n",
       "    }\n",
       "</style>\n",
       "<table border=\"1\" class=\"dataframe\">\n",
       "  <thead>\n",
       "    <tr style=\"text-align: right;\">\n",
       "      <th></th>\n",
       "      <th>Study_Hours</th>\n",
       "      <th>Marks</th>\n",
       "    </tr>\n",
       "  </thead>\n",
       "  <tbody>\n",
       "    <tr>\n",
       "      <th>0</th>\n",
       "      <td>1</td>\n",
       "      <td>45</td>\n",
       "    </tr>\n",
       "    <tr>\n",
       "      <th>1</th>\n",
       "      <td>2</td>\n",
       "      <td>48</td>\n",
       "    </tr>\n",
       "    <tr>\n",
       "      <th>2</th>\n",
       "      <td>3</td>\n",
       "      <td>52</td>\n",
       "    </tr>\n",
       "    <tr>\n",
       "      <th>3</th>\n",
       "      <td>4</td>\n",
       "      <td>60</td>\n",
       "    </tr>\n",
       "    <tr>\n",
       "      <th>4</th>\n",
       "      <td>5</td>\n",
       "      <td>65</td>\n",
       "    </tr>\n",
       "    <tr>\n",
       "      <th>5</th>\n",
       "      <td>6</td>\n",
       "      <td>68</td>\n",
       "    </tr>\n",
       "    <tr>\n",
       "      <th>6</th>\n",
       "      <td>7</td>\n",
       "      <td>75</td>\n",
       "    </tr>\n",
       "    <tr>\n",
       "      <th>7</th>\n",
       "      <td>8</td>\n",
       "      <td>78</td>\n",
       "    </tr>\n",
       "    <tr>\n",
       "      <th>8</th>\n",
       "      <td>9</td>\n",
       "      <td>85</td>\n",
       "    </tr>\n",
       "    <tr>\n",
       "      <th>9</th>\n",
       "      <td>10</td>\n",
       "      <td>88</td>\n",
       "    </tr>\n",
       "  </tbody>\n",
       "</table>\n",
       "</div>"
      ],
      "text/plain": [
       "   Study_Hours  Marks\n",
       "0            1     45\n",
       "1            2     48\n",
       "2            3     52\n",
       "3            4     60\n",
       "4            5     65\n",
       "5            6     68\n",
       "6            7     75\n",
       "7            8     78\n",
       "8            9     85\n",
       "9           10     88"
      ]
     },
     "execution_count": 61,
     "metadata": {},
     "output_type": "execute_result"
    }
   ],
   "source": [
    "df"
   ]
  },
  {
   "cell_type": "code",
   "execution_count": 62,
   "id": "0522a692",
   "metadata": {},
   "outputs": [],
   "source": [
    "x = df['Study_Hours']\n",
    "y = df['Marks']"
   ]
  },
  {
   "cell_type": "code",
   "execution_count": 63,
   "id": "72a3d2a4",
   "metadata": {},
   "outputs": [
    {
     "data": {
      "image/png": "[encoded data removed]",
      "text/plain": [
       "<Figure size 640x480 with 1 Axes>"
      ]
     },
     "metadata": {},
     "output_type": "display_data"
    }
   ],
   "source": [
    "new_plot = plt.scatter(x,y)"
   ]
  },
  {
   "cell_type": "code",
   "execution_count": 64,
   "id": "7514d639",
   "metadata": {},
   "outputs": [],
   "source": [
    "#finding the mean of x and y"
   ]
  },
  {
   "cell_type": "code",
   "execution_count": 73,
   "id": "bce119d4",
   "metadata": {},
   "outputs": [],
   "source": [
    "def find_mean(val1, val2):\n",
    "    x = sum(val1)/len(val1)\n",
    "    y = sum(val2)/len(val2)\n",
    "    return x, y"
   ]
  },
  {
   "cell_type": "code",
   "execution_count": 77,
   "id": "fc58489c",
   "metadata": {},
   "outputs": [],
   "source": [
    "mean_of_x_and_y = find_mean(x,y)"
   ]
  },
  {
   "cell_type": "code",
   "execution_count": 78,
   "id": "b13fa7e4",
   "metadata": {},
   "outputs": [
    {
     "data": {
      "text/plain": [
       "(5.5, 66.4)"
      ]
     },
     "execution_count": 78,
     "metadata": {},
     "output_type": "execute_result"
    }
   ],
   "source": [
    "mean_of_x_and_y"
   ]
  },
  {
   "cell_type": "code",
   "execution_count": 79,
   "id": "9b540805",
   "metadata": {},
   "outputs": [],
   "source": [
    "# now calculating slope "
   ]
  },
  {
   "cell_type": "code",
   "execution_count": 80,
   "id": "f2604bd2",
   "metadata": {},
   "outputs": [],
   "source": [
    "def x_mean(x):\n",
    "    val1 = sum(x)/ len(x)\n",
    "    return val1"
   ]
  },
  {
   "cell_type": "code",
   "execution_count": 81,
   "id": "810296f6",
   "metadata": {},
   "outputs": [],
   "source": [
    "def y_mean(y):\n",
    "    val2 = sum(y)/len(y)\n",
    "    return val2"
   ]
  },
  {
   "cell_type": "code",
   "execution_count": 82,
   "id": "bce5523b",
   "metadata": {},
   "outputs": [],
   "source": [
    "X = x_mean(x)"
   ]
  },
  {
   "cell_type": "code",
   "execution_count": 83,
   "id": "6a7e1f72",
   "metadata": {},
   "outputs": [
    {
     "data": {
      "text/plain": [
       "5.5"
      ]
     },
     "execution_count": 83,
     "metadata": {},
     "output_type": "execute_result"
    }
   ],
   "source": [
    "X"
   ]
  },
  {
   "cell_type": "code",
   "execution_count": 84,
   "id": "230af13d",
   "metadata": {},
   "outputs": [],
   "source": [
    "Y = y_mean(y)"
   ]
  },
  {
   "cell_type": "code",
   "execution_count": 85,
   "id": "ba4e09f9",
   "metadata": {},
   "outputs": [
    {
     "data": {
      "text/plain": [
       "66.4"
      ]
     },
     "execution_count": 85,
     "metadata": {},
     "output_type": "execute_result"
    }
   ],
   "source": [
    "Y"
   ]
  },
  {
   "cell_type": "code",
   "execution_count": 86,
   "id": "1c29a998",
   "metadata": {},
   "outputs": [
    {
     "data": {
      "text/plain": [
       "(5.5, 66.4)"
      ]
     },
     "execution_count": 86,
     "metadata": {},
     "output_type": "execute_result"
    }
   ],
   "source": [
    "X,Y"
   ]
  },
  {
   "cell_type": "code",
   "execution_count": null,
   "id": "4c85f393",
   "metadata": {},
   "outputs": [],
   "source": [
    "def x_mean(x):\n",
    "    val1 = sum(x)/ len(x)\n",
    "    return val1\n",
    "\n",
    "def y_mean(y):\n",
    "    val2 = sum(y)/len(y)\n",
    "    return val2\n",
    "\n",
    "X = x_mean(x)\n",
    "Y = y_mean(y)\n",
    "\n",
    "X,Y"
   ]
  },
  {
   "cell_type": "code",
   "execution_count": 90,
   "id": "287259eb",
   "metadata": {},
   "outputs": [],
   "source": [
    "def calculate_slope(x_vals, y_vals, x_mean, y_mean):\n",
    "    numerator = 0\n",
    "    denominator = 0\n",
    "\n",
    "    for i in range(len(x_vals)):\n",
    "        numerator += (x_vals[i] - x_mean) * (y_vals[i] - y_mean)\n",
    "        denominator += (x_vals[i] - x_mean) ** 2\n",
    "\n",
    "    return numerator / denominator"
   ]
  },
  {
   "cell_type": "code",
   "execution_count": 91,
   "id": "4f146e1c",
   "metadata": {},
   "outputs": [],
   "source": [
    "slope = calculate_slope(x, y, X, Y)"
   ]
  },
  {
   "cell_type": "code",
   "execution_count": 92,
   "id": "5c57aa8b",
   "metadata": {},
   "outputs": [
    {
     "data": {
      "text/plain": [
       "4.993939393939394"
      ]
     },
     "execution_count": 92,
     "metadata": {},
     "output_type": "execute_result"
    }
   ],
   "source": [
    "slope"
   ]
  },
  {
   "cell_type": "code",
   "execution_count": 93,
   "id": "29fafccc",
   "metadata": {},
   "outputs": [],
   "source": [
    "def calculate_intercept(mean_y, slp, mean_x):\n",
    "    intercept = mean_y - (slp * mean_x)\n",
    "    \n",
    "    return intercept"
   ]
  },
  {
   "cell_type": "code",
   "execution_count": 94,
   "id": "0329aa9a",
   "metadata": {},
   "outputs": [],
   "source": [
    "intercept = calculate_intercept(Y, slope, X)"
   ]
  },
  {
   "cell_type": "code",
   "execution_count": 95,
   "id": "80fc977d",
   "metadata": {},
   "outputs": [
    {
     "data": {
      "text/plain": [
       "38.93333333333334"
      ]
     },
     "execution_count": 95,
     "metadata": {},
     "output_type": "execute_result"
    }
   ],
   "source": [
    "intercept"
   ]
  },
  {
   "cell_type": "code",
   "execution_count": 96,
   "id": "b034e79b",
   "metadata": {},
   "outputs": [],
   "source": [
    "#applying to linear regression"
   ]
  },
  {
   "cell_type": "code",
   "execution_count": 100,
   "id": "c3811ad3",
   "metadata": {},
   "outputs": [],
   "source": [
    "def linear_regression(intercept, slope, x_val):\n",
    "    \n",
    "    check = intercept + (slope * x_val)\n",
    "    \n",
    "    return check\n",
    "\n",
    "check = linear_regression(intercept, slope, 8)\n",
    "\n",
    "# answer was 78.88484848484849 and the actual value is 78"
   ]
  },
  {
   "cell_type": "code",
   "execution_count": 101,
   "id": "e9fb6868",
   "metadata": {},
   "outputs": [],
   "source": [
    "check = linear_regression(intercept, slope, 8)"
   ]
  },
  {
   "cell_type": "code",
   "execution_count": 99,
   "id": "c6df0e77",
   "metadata": {},
   "outputs": [
    {
     "data": {
      "text/plain": [
       "78.88484848484849"
      ]
     },
     "execution_count": 99,
     "metadata": {},
     "output_type": "execute_result"
    }
   ],
   "source": [
    "check"
   ]
  },
  {
   "cell_type": "code",
   "execution_count": 106,
   "id": "5cb6f0f9",
   "metadata": {},
   "outputs": [],
   "source": [
    "def l_r(intercept, slope, x_val):\n",
    "    val = []\n",
    "    for i in (x_val):\n",
    "        check = intercept + slope * i\n",
    "        val.append(check)\n",
    "        \n",
    "    return val"
   ]
  },
  {
   "cell_type": "code",
   "execution_count": 108,
   "id": "0f79b1cf",
   "metadata": {},
   "outputs": [],
   "source": [
    "predicted_values = l_r(intercept, slope, x)"
   ]
  },
  {
   "cell_type": "code",
   "execution_count": 109,
   "id": "b48c8561",
   "metadata": {},
   "outputs": [
    {
     "data": {
      "text/plain": [
       "[43.92727272727273,\n",
       " 48.92121212121212,\n",
       " 53.91515151515152,\n",
       " 58.909090909090914,\n",
       " 63.903030303030306,\n",
       " 68.8969696969697,\n",
       " 73.8909090909091,\n",
       " 78.88484848484849,\n",
       " 83.87878787878788,\n",
       " 88.87272727272727]"
      ]
     },
     "execution_count": 109,
     "metadata": {},
     "output_type": "execute_result"
    }
   ],
   "source": [
    "predicted_values"
   ]
  },
  {
   "cell_type": "code",
   "execution_count": 112,
   "id": "16026d6c",
   "metadata": {},
   "outputs": [],
   "source": [
    "df['Predicted Marks'] = predicted_values"
   ]
  },
  {
   "cell_type": "code",
   "execution_count": 113,
   "id": "5d10c50d",
   "metadata": {},
   "outputs": [
    {
     "data": {
      "text/html": [
       "<div>\n",
       "<style scoped>\n",
       "    .dataframe tbody tr th:only-of-type {\n",
       "        vertical-align: middle;\n",
       "    }\n",
       "\n",
       "    .dataframe tbody tr th {\n",
       "        vertical-align: top;\n",
       "    }\n",
       "\n",
       "    .dataframe thead th {\n",
       "        text-align: right;\n",
       "    }\n",
       "</style>\n",
       "<table border=\"1\" class=\"dataframe\">\n",
       "  <thead>\n",
       "    <tr style=\"text-align: right;\">\n",
       "      <th></th>\n",
       "      <th>Study_Hours</th>\n",
       "      <th>Marks</th>\n",
       "      <th>Predicted Marks</th>\n",
       "    </tr>\n",
       "  </thead>\n",
       "  <tbody>\n",
       "    <tr>\n",
       "      <th>0</th>\n",
       "      <td>1</td>\n",
       "      <td>45</td>\n",
       "      <td>43.927273</td>\n",
       "    </tr>\n",
       "    <tr>\n",
       "      <th>1</th>\n",
       "      <td>2</td>\n",
       "      <td>48</td>\n",
       "      <td>48.921212</td>\n",
       "    </tr>\n",
       "    <tr>\n",
       "      <th>2</th>\n",
       "      <td>3</td>\n",
       "      <td>52</td>\n",
       "      <td>53.915152</td>\n",
       "    </tr>\n",
       "    <tr>\n",
       "      <th>3</th>\n",
       "      <td>4</td>\n",
       "      <td>60</td>\n",
       "      <td>58.909091</td>\n",
       "    </tr>\n",
       "    <tr>\n",
       "      <th>4</th>\n",
       "      <td>5</td>\n",
       "      <td>65</td>\n",
       "      <td>63.903030</td>\n",
       "    </tr>\n",
       "    <tr>\n",
       "      <th>5</th>\n",
       "      <td>6</td>\n",
       "      <td>68</td>\n",
       "      <td>68.896970</td>\n",
       "    </tr>\n",
       "    <tr>\n",
       "      <th>6</th>\n",
       "      <td>7</td>\n",
       "      <td>75</td>\n",
       "      <td>73.890909</td>\n",
       "    </tr>\n",
       "    <tr>\n",
       "      <th>7</th>\n",
       "      <td>8</td>\n",
       "      <td>78</td>\n",
       "      <td>78.884848</td>\n",
       "    </tr>\n",
       "    <tr>\n",
       "      <th>8</th>\n",
       "      <td>9</td>\n",
       "      <td>85</td>\n",
       "      <td>83.878788</td>\n",
       "    </tr>\n",
       "    <tr>\n",
       "      <th>9</th>\n",
       "      <td>10</td>\n",
       "      <td>88</td>\n",
       "      <td>88.872727</td>\n",
       "    </tr>\n",
       "  </tbody>\n",
       "</table>\n",
       "</div>"
      ],
      "text/plain": [
       "   Study_Hours  Marks  Predicted Marks\n",
       "0            1     45        43.927273\n",
       "1            2     48        48.921212\n",
       "2            3     52        53.915152\n",
       "3            4     60        58.909091\n",
       "4            5     65        63.903030\n",
       "5            6     68        68.896970\n",
       "6            7     75        73.890909\n",
       "7            8     78        78.884848\n",
       "8            9     85        83.878788\n",
       "9           10     88        88.872727"
      ]
     },
     "execution_count": 113,
     "metadata": {},
     "output_type": "execute_result"
    }
   ],
   "source": [
    "df"
   ]
  },
  {
   "cell_type": "code",
   "execution_count": 114,
   "id": "e602b3b7",
   "metadata": {},
   "outputs": [],
   "source": [
    "def finding_error(real_marks, predicted_marks):\n",
    "    values = []\n",
    "    for i in zip(real_marks, predicted_marks):\n",
    "        errors = i[0] - i[1]\n",
    "        values.append(errors)\n",
    "    \n",
    "    return values\n",
    "\n",
    "errors = finding_error(df['Marks'], df['Predicted Marks'])\n",
    "\n",
    "errors"
   ]
  },
  {
   "cell_type": "code",
   "execution_count": 117,
   "id": "7d73100a",
   "metadata": {},
   "outputs": [],
   "source": [
    "errors = finding_error(df['Marks'], df['Predicted Marks'])"
   ]
  },
  {
   "cell_type": "code",
   "execution_count": 118,
   "id": "f09e963d",
   "metadata": {},
   "outputs": [
    {
     "data": {
      "text/plain": [
       "[1.0727272727272705,\n",
       " -0.9212121212121218,\n",
       " -1.9151515151515213,\n",
       " 1.0909090909090864,\n",
       " 1.096969696969694,\n",
       " -0.8969696969697054,\n",
       " 1.1090909090908951,\n",
       " -0.8848484848484901,\n",
       " 1.1212121212121247,\n",
       " -0.8727272727272748]"
      ]
     },
     "execution_count": 118,
     "metadata": {},
     "output_type": "execute_result"
    }
   ],
   "source": [
    "errors"
   ]
  },
  {
   "cell_type": "code",
   "execution_count": 119,
   "id": "eeff1be3",
   "metadata": {},
   "outputs": [],
   "source": [
    "df['Actual vs predicted'] = errors"
   ]
  },
  {
   "cell_type": "code",
   "execution_count": 120,
   "id": "9019ab80",
   "metadata": {},
   "outputs": [
    {
     "data": {
      "text/html": [
       "<div>\n",
       "<style scoped>\n",
       "    .dataframe tbody tr th:only-of-type {\n",
       "        vertical-align: middle;\n",
       "    }\n",
       "\n",
       "    .dataframe tbody tr th {\n",
       "        vertical-align: top;\n",
       "    }\n",
       "\n",
       "    .dataframe thead th {\n",
       "        text-align: right;\n",
       "    }\n",
       "</style>\n",
       "<table border=\"1\" class=\"dataframe\">\n",
       "  <thead>\n",
       "    <tr style=\"text-align: right;\">\n",
       "      <th></th>\n",
       "      <th>Study_Hours</th>\n",
       "      <th>Marks</th>\n",
       "      <th>Predicted Marks</th>\n",
       "      <th>Actual vs predicted</th>\n",
       "    </tr>\n",
       "  </thead>\n",
       "  <tbody>\n",
       "    <tr>\n",
       "      <th>0</th>\n",
       "      <td>1</td>\n",
       "      <td>45</td>\n",
       "      <td>43.927273</td>\n",
       "      <td>1.072727</td>\n",
       "    </tr>\n",
       "    <tr>\n",
       "      <th>1</th>\n",
       "      <td>2</td>\n",
       "      <td>48</td>\n",
       "      <td>48.921212</td>\n",
       "      <td>-0.921212</td>\n",
       "    </tr>\n",
       "    <tr>\n",
       "      <th>2</th>\n",
       "      <td>3</td>\n",
       "      <td>52</td>\n",
       "      <td>53.915152</td>\n",
       "      <td>-1.915152</td>\n",
       "    </tr>\n",
       "    <tr>\n",
       "      <th>3</th>\n",
       "      <td>4</td>\n",
       "      <td>60</td>\n",
       "      <td>58.909091</td>\n",
       "      <td>1.090909</td>\n",
       "    </tr>\n",
       "    <tr>\n",
       "      <th>4</th>\n",
       "      <td>5</td>\n",
       "      <td>65</td>\n",
       "      <td>63.903030</td>\n",
       "      <td>1.096970</td>\n",
       "    </tr>\n",
       "    <tr>\n",
       "      <th>5</th>\n",
       "      <td>6</td>\n",
       "      <td>68</td>\n",
       "      <td>68.896970</td>\n",
       "      <td>-0.896970</td>\n",
       "    </tr>\n",
       "    <tr>\n",
       "      <th>6</th>\n",
       "      <td>7</td>\n",
       "      <td>75</td>\n",
       "      <td>73.890909</td>\n",
       "      <td>1.109091</td>\n",
       "    </tr>\n",
       "    <tr>\n",
       "      <th>7</th>\n",
       "      <td>8</td>\n",
       "      <td>78</td>\n",
       "      <td>78.884848</td>\n",
       "      <td>-0.884848</td>\n",
       "    </tr>\n",
       "    <tr>\n",
       "      <th>8</th>\n",
       "      <td>9</td>\n",
       "      <td>85</td>\n",
       "      <td>83.878788</td>\n",
       "      <td>1.121212</td>\n",
       "    </tr>\n",
       "    <tr>\n",
       "      <th>9</th>\n",
       "      <td>10</td>\n",
       "      <td>88</td>\n",
       "      <td>88.872727</td>\n",
       "      <td>-0.872727</td>\n",
       "    </tr>\n",
       "  </tbody>\n",
       "</table>\n",
       "</div>"
      ],
      "text/plain": [
       "   Study_Hours  Marks  Predicted Marks  Actual vs predicted\n",
       "0            1     45        43.927273             1.072727\n",
       "1            2     48        48.921212            -0.921212\n",
       "2            3     52        53.915152            -1.915152\n",
       "3            4     60        58.909091             1.090909\n",
       "4            5     65        63.903030             1.096970\n",
       "5            6     68        68.896970            -0.896970\n",
       "6            7     75        73.890909             1.109091\n",
       "7            8     78        78.884848            -0.884848\n",
       "8            9     85        83.878788             1.121212\n",
       "9           10     88        88.872727            -0.872727"
      ]
     },
     "execution_count": 120,
     "metadata": {},
     "output_type": "execute_result"
    }
   ],
   "source": [
    "df"
   ]
  },
  {
   "cell_type": "code",
   "execution_count": 131,
   "id": "bdc453d6",
   "metadata": {},
   "outputs": [],
   "source": [
    "def calulate_square_a_pr(values):\n",
    "    val = []\n",
    "    for e in values:\n",
    "        squared = e ** 2\n",
    "        val.append(squared)\n",
    "    \n",
    "    return val"
   ]
  },
  {
   "cell_type": "code",
   "execution_count": 133,
   "id": "e878711b",
   "metadata": {},
   "outputs": [],
   "source": [
    "actual_predicted_squares = calulate_square_a_pr(df['Actual vs predicted'])"
   ]
  },
  {
   "cell_type": "code",
   "execution_count": 134,
   "id": "2b4f1681",
   "metadata": {},
   "outputs": [
    {
     "data": {
      "text/plain": [
       "[1.150743801652888,\n",
       " 0.848631772268137,\n",
       " 3.6678053259871675,\n",
       " 1.1900826446280892,\n",
       " 1.2033425160697824,\n",
       " 0.8045546372819251,\n",
       " 1.2300826446280682,\n",
       " 0.7829568411386686,\n",
       " 1.257116620752992,\n",
       " 0.7616528925619871]"
      ]
     },
     "execution_count": 134,
     "metadata": {},
     "output_type": "execute_result"
    }
   ],
   "source": [
    "actual_predicted_squares"
   ]
  },
  {
   "cell_type": "code",
   "execution_count": 135,
   "id": "f4306f09",
   "metadata": {},
   "outputs": [],
   "source": [
    "df['Actual vs predicted squares'] = actual_predicted_squares"
   ]
  },
  {
   "cell_type": "code",
   "execution_count": 136,
   "id": "cfc74c82",
   "metadata": {},
   "outputs": [
    {
     "data": {
      "text/html": [
       "<div>\n",
       "<style scoped>\n",
       "    .dataframe tbody tr th:only-of-type {\n",
       "        vertical-align: middle;\n",
       "    }\n",
       "\n",
       "    .dataframe tbody tr th {\n",
       "        vertical-align: top;\n",
       "    }\n",
       "\n",
       "    .dataframe thead th {\n",
       "        text-align: right;\n",
       "    }\n",
       "</style>\n",
       "<table border=\"1\" class=\"dataframe\">\n",
       "  <thead>\n",
       "    <tr style=\"text-align: right;\">\n",
       "      <th></th>\n",
       "      <th>Study_Hours</th>\n",
       "      <th>Marks</th>\n",
       "      <th>Predicted Marks</th>\n",
       "      <th>Actual vs predicted</th>\n",
       "      <th>Actual vs predicted squares</th>\n",
       "    </tr>\n",
       "  </thead>\n",
       "  <tbody>\n",
       "    <tr>\n",
       "      <th>0</th>\n",
       "      <td>1</td>\n",
       "      <td>45</td>\n",
       "      <td>43.927273</td>\n",
       "      <td>1.072727</td>\n",
       "      <td>1.150744</td>\n",
       "    </tr>\n",
       "    <tr>\n",
       "      <th>1</th>\n",
       "      <td>2</td>\n",
       "      <td>48</td>\n",
       "      <td>48.921212</td>\n",
       "      <td>-0.921212</td>\n",
       "      <td>0.848632</td>\n",
       "    </tr>\n",
       "    <tr>\n",
       "      <th>2</th>\n",
       "      <td>3</td>\n",
       "      <td>52</td>\n",
       "      <td>53.915152</td>\n",
       "      <td>-1.915152</td>\n",
       "      <td>3.667805</td>\n",
       "    </tr>\n",
       "    <tr>\n",
       "      <th>3</th>\n",
       "      <td>4</td>\n",
       "      <td>60</td>\n",
       "      <td>58.909091</td>\n",
       "      <td>1.090909</td>\n",
       "      <td>1.190083</td>\n",
       "    </tr>\n",
       "    <tr>\n",
       "      <th>4</th>\n",
       "      <td>5</td>\n",
       "      <td>65</td>\n",
       "      <td>63.903030</td>\n",
       "      <td>1.096970</td>\n",
       "      <td>1.203343</td>\n",
       "    </tr>\n",
       "    <tr>\n",
       "      <th>5</th>\n",
       "      <td>6</td>\n",
       "      <td>68</td>\n",
       "      <td>68.896970</td>\n",
       "      <td>-0.896970</td>\n",
       "      <td>0.804555</td>\n",
       "    </tr>\n",
       "    <tr>\n",
       "      <th>6</th>\n",
       "      <td>7</td>\n",
       "      <td>75</td>\n",
       "      <td>73.890909</td>\n",
       "      <td>1.109091</td>\n",
       "      <td>1.230083</td>\n",
       "    </tr>\n",
       "    <tr>\n",
       "      <th>7</th>\n",
       "      <td>8</td>\n",
       "      <td>78</td>\n",
       "      <td>78.884848</td>\n",
       "      <td>-0.884848</td>\n",
       "      <td>0.782957</td>\n",
       "    </tr>\n",
       "    <tr>\n",
       "      <th>8</th>\n",
       "      <td>9</td>\n",
       "      <td>85</td>\n",
       "      <td>83.878788</td>\n",
       "      <td>1.121212</td>\n",
       "      <td>1.257117</td>\n",
       "    </tr>\n",
       "    <tr>\n",
       "      <th>9</th>\n",
       "      <td>10</td>\n",
       "      <td>88</td>\n",
       "      <td>88.872727</td>\n",
       "      <td>-0.872727</td>\n",
       "      <td>0.761653</td>\n",
       "    </tr>\n",
       "  </tbody>\n",
       "</table>\n",
       "</div>"
      ],
      "text/plain": [
       "   Study_Hours  Marks  Predicted Marks  Actual vs predicted  \\\n",
       "0            1     45        43.927273             1.072727   \n",
       "1            2     48        48.921212            -0.921212   \n",
       "2            3     52        53.915152            -1.915152   \n",
       "3            4     60        58.909091             1.090909   \n",
       "4            5     65        63.903030             1.096970   \n",
       "5            6     68        68.896970            -0.896970   \n",
       "6            7     75        73.890909             1.109091   \n",
       "7            8     78        78.884848            -0.884848   \n",
       "8            9     85        83.878788             1.121212   \n",
       "9           10     88        88.872727            -0.872727   \n",
       "\n",
       "   Actual vs predicted squares  \n",
       "0                     1.150744  \n",
       "1                     0.848632  \n",
       "2                     3.667805  \n",
       "3                     1.190083  \n",
       "4                     1.203343  \n",
       "5                     0.804555  \n",
       "6                     1.230083  \n",
       "7                     0.782957  \n",
       "8                     1.257117  \n",
       "9                     0.761653  "
      ]
     },
     "execution_count": 136,
     "metadata": {},
     "output_type": "execute_result"
    }
   ],
   "source": [
    "df"
   ]
  },
  {
   "cell_type": "code",
   "execution_count": 149,
   "id": "aa49e40d",
   "metadata": {},
   "outputs": [],
   "source": [
    "def calculating_SSE(val):\n",
    "    sse = sum(val)\n",
    "    return sse"
   ]
  },
  {
   "cell_type": "code",
   "execution_count": 151,
   "id": "cba27c7b",
   "metadata": {},
   "outputs": [],
   "source": [
    "sse_error = calculating_SSE(df['Actual vs predicted squares'])"
   ]
  },
  {
   "cell_type": "code",
   "execution_count": 152,
   "id": "af15398e",
   "metadata": {},
   "outputs": [
    {
     "data": {
      "text/plain": [
       "12.896969696969704"
      ]
     },
     "execution_count": 152,
     "metadata": {},
     "output_type": "execute_result"
    }
   ],
   "source": [
    "sse_error"
   ]
  },
  {
   "cell_type": "code",
   "execution_count": 164,
   "id": "e5993504",
   "metadata": {},
   "outputs": [],
   "source": [
    "def calculating_sst(actual, mean_val):\n",
    "    sst = []\n",
    "    for e in actual:\n",
    "        SST = e - mean_val\n",
    "        real_sst = SST ** 2\n",
    "        sst.append(real_sst)\n",
    "    return sum(sst)"
   ]
  },
  {
   "cell_type": "code",
   "execution_count": 165,
   "id": "00fc9f45",
   "metadata": {},
   "outputs": [],
   "source": [
    "sst_error = calculating_sst(df['Marks'], Y)"
   ]
  },
  {
   "cell_type": "code",
   "execution_count": 166,
   "id": "c7b76867",
   "metadata": {},
   "outputs": [
    {
     "data": {
      "text/plain": [
       "2070.4"
      ]
     },
     "execution_count": 166,
     "metadata": {},
     "output_type": "execute_result"
    }
   ],
   "source": [
    "sst_error"
   ]
  },
  {
   "cell_type": "code",
   "execution_count": 167,
   "id": "4ad79451",
   "metadata": {},
   "outputs": [],
   "source": [
    "def calculating_R(total_error, var_error):\n",
    "    r2 = 1 - (total_error/var_error)\n",
    "    return r2"
   ]
  },
  {
   "cell_type": "code",
   "execution_count": 168,
   "id": "460d2404",
   "metadata": {},
   "outputs": [
    {
     "data": {
      "text/plain": [
       "0.9937707835698563"
      ]
     },
     "execution_count": 168,
     "metadata": {},
     "output_type": "execute_result"
    }
   ],
   "source": [
    "calculating_R(sse_error, sst_error)"
   ]
  },
  {
   "cell_type": "code",
   "execution_count": 143,
   "id": "d23bcc92",
   "metadata": {},
   "outputs": [],
   "source": [
    "def calculating_MSE(values):\n",
    "    mse = sum(values)/len(values)\n",
    "    return mse"
   ]
  },
  {
   "cell_type": "code",
   "execution_count": 144,
   "id": "0aada1e6",
   "metadata": {},
   "outputs": [],
   "source": [
    "mse_error = calculating_MSE(df['Actual vs predicted squares'])"
   ]
  },
  {
   "cell_type": "code",
   "execution_count": 145,
   "id": "17acfd21",
   "metadata": {},
   "outputs": [
    {
     "data": {
      "text/plain": [
       "1.2896969696969705"
      ]
     },
     "execution_count": 145,
     "metadata": {},
     "output_type": "execute_result"
    }
   ],
   "source": [
    "mse_error"
   ]
  }
 ],
 "metadata": {
  "kernelspec": {
   "display_name": "Python 3 (ipykernel)",
   "language": "python",
   "name": "python3"
  },
  "language_info": {
   "codemirror_mode": {
    "name": "ipython",
    "version": 3
   },
   "file_extension": ".py",
   "mimetype": "text/x-python",
   "name": "python",
   "nbconvert_exporter": "python",
   "pygments_lexer": "ipython3",
   "version": "3.11.3"
  }
 },
 "nbformat": 4,
 "nbformat_minor": 5
}
